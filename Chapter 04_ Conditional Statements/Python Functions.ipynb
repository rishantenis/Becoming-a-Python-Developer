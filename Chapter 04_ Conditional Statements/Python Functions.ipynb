{
  "nbformat": 4,
  "nbformat_minor": 0,
  "metadata": {
    "colab": {
      "private_outputs": true,
      "provenance": []
    },
    "kernelspec": {
      "name": "python3",
      "display_name": "Python 3"
    },
    "language_info": {
      "name": "python"
    }
  },
  "cells": [
    {
      "cell_type": "markdown",
      "source": [
        "# Even or Odd Checker: This code checks whether the given number is even or odd."
      ],
      "metadata": {
        "id": "IXkbuomrhSrI"
      }
    },
    {
      "cell_type": "code",
      "execution_count": null,
      "metadata": {
        "id": "akrJyH8rhOb8"
      },
      "outputs": [],
      "source": [
        "num = int(input(\"Enter a number: \"))\n",
        "if num % 2 == 0:\n",
        "    print(\"Even\")\n",
        "else:\n",
        "    print(\"Odd\")"
      ]
    },
    {
      "cell_type": "markdown",
      "source": [
        "# Positive, Negative, or Zero Checker:Determines if the input number is positive, negative, or zero."
      ],
      "metadata": {
        "id": "VeoK1StAhY9-"
      }
    },
    {
      "cell_type": "code",
      "source": [
        "num = float(input(\"Enter a number: \"))\n",
        "if num > 0:\n",
        "    print(\"Positive\")\n",
        "elif num < 0:\n",
        "    print(\"Negative\")\n",
        "else:\n",
        "    print(\"Zero\")"
      ],
      "metadata": {
        "id": "CqS8FiwnhVqH"
      },
      "execution_count": null,
      "outputs": []
    },
    {
      "cell_type": "markdown",
      "source": [
        "# Positive, Negative, or Zero Checker (using ternary operator): A concise way to check if a number is positive, negative, or zero using the ternary operator."
      ],
      "metadata": {
        "id": "L-Ftfb92iqzM"
      }
    },
    {
      "cell_type": "code",
      "source": [
        "num = float(input(\"Enter a number: \"))\n",
        "result = \"Positive\" if num > 0 else \"Negative\" if num < 0 else \"Zero\"\n",
        "print(result)"
      ],
      "metadata": {
        "id": "87lzYlhuitg_"
      },
      "execution_count": null,
      "outputs": []
    },
    {
      "cell_type": "markdown",
      "source": [
        "# Leap Year Checker: Checks if a given year is a leap year or not."
      ],
      "metadata": {
        "id": "G0EeJJnBhfaS"
      }
    },
    {
      "cell_type": "code",
      "source": [
        "year = int(input(\"Enter a year: \"))\n",
        "if (year % 4 == 0 and year % 100 != 0) or (year % 400 == 0):\n",
        "    print(\"Leap year\")\n",
        "else:\n",
        "    print(\"Not a leap year\")"
      ],
      "metadata": {
        "id": "BOO1jXQKhhUl"
      },
      "execution_count": null,
      "outputs": []
    },
    {
      "cell_type": "markdown",
      "source": [
        "# Vowel or Consonant Checker: Determines if the input character is a vowel or consonant."
      ],
      "metadata": {
        "id": "9jKvbDX_hmK7"
      }
    },
    {
      "cell_type": "code",
      "source": [
        "char = input(\"Enter a character: \").lower()\n",
        "if char.isalpha():\n",
        "    if char in 'aeiou':\n",
        "        print(\"Vowel\")\n",
        "    else:\n",
        "        print(\"Consonant\")\n",
        "else:\n",
        "    print(\"Not a valid alphabet\")"
      ],
      "metadata": {
        "id": "06Jz8sSWhi0l"
      },
      "execution_count": null,
      "outputs": []
    },
    {
      "cell_type": "markdown",
      "source": [
        "# Maximum of Three Numbers: Finds and prints the maximum of three input numbers."
      ],
      "metadata": {
        "id": "FghpnPfTht3X"
      }
    },
    {
      "cell_type": "code",
      "source": [
        "a, b, c = map(int, input(\"Enter three numbers: \").split())\n",
        "max_num = max(a, b, c)\n",
        "print(f\"The maximum number is: {max_num}\")"
      ],
      "metadata": {
        "id": "JD-K8FIJhrbn"
      },
      "execution_count": null,
      "outputs": []
    },
    {
      "cell_type": "markdown",
      "source": [
        "# Grade Calculator: Assigns grades based on the input marks."
      ],
      "metadata": {
        "id": "1ZxC9VWDh4x0"
      }
    },
    {
      "cell_type": "code",
      "source": [
        "marks = float(input(\"Enter your marks: \"))\n",
        "if marks >= 90:\n",
        "    print(\"A\")\n",
        "elif marks >= 80:\n",
        "    print(\"B\")\n",
        "elif marks >= 70:\n",
        "    print(\"C\")\n",
        "elif marks >= 60:\n",
        "    print(\"D\")\n",
        "else:\n",
        "    print(\"F\")\n"
      ],
      "metadata": {
        "id": "vVF52oSWh1N2"
      },
      "execution_count": null,
      "outputs": []
    },
    {
      "cell_type": "markdown",
      "source": [
        "# Palindrome Checker: Checks if the input word is a palindrome or not."
      ],
      "metadata": {
        "id": "HqxPcI1biDbQ"
      }
    },
    {
      "cell_type": "code",
      "source": [
        "word = input(\"Enter a word: \").lower()\n",
        "if word == word[::-1]:\n",
        "    print(\"Palindrome\")\n",
        "else:\n",
        "    print(\"Not a palindrome\")\n"
      ],
      "metadata": {
        "id": "7wkkxaV3iANI"
      },
      "execution_count": null,
      "outputs": []
    },
    {
      "cell_type": "markdown",
      "source": [
        "# Positive and Even Checker: Checks if the number is both positive and even."
      ],
      "metadata": {
        "id": "ffOQOOItiJu-"
      }
    },
    {
      "cell_type": "code",
      "source": [
        "num = int(input(\"Enter a number: \"))\n",
        "if num > 0 and num % 2 == 0:\n",
        "    print(\"Positive and Even\")\n",
        "else:\n",
        "    print(\"Not both positive and even\")\n"
      ],
      "metadata": {
        "id": "9KB1aJHtiMfs"
      },
      "execution_count": null,
      "outputs": []
    },
    {
      "cell_type": "markdown",
      "source": [
        "# Valid Triangle Checker: Checks if given side lengths can form a valid triangle."
      ],
      "metadata": {
        "id": "2FnbKk0OiUhs"
      }
    },
    {
      "cell_type": "code",
      "source": [
        "sides = sorted(map(float, input(\"Enter three sides of a triangle: \").split()))\n",
        "if sides[0] + sides[1] > sides[2]:\n",
        "    print(\"Valid Triangle\")\n",
        "else:\n",
        "    print(\"Invalid Triangle\")\n"
      ],
      "metadata": {
        "id": "ULRsAz5DicGv"
      },
      "execution_count": null,
      "outputs": []
    },
    {
      "cell_type": "markdown",
      "source": [
        "# Absolute Value Calculator: Calculates and prints the absolute value of a number."
      ],
      "metadata": {
        "id": "Q78bMvYlij52"
      }
    },
    {
      "cell_type": "code",
      "source": [
        "num = float(input(\"Enter a number: \"))\n",
        "absolute_value = abs(num)\n",
        "print(f\"The absolute value is: {absolute_value}\")"
      ],
      "metadata": {
        "id": "Ni7X07dHiRrL"
      },
      "execution_count": null,
      "outputs": []
    },
    {
      "cell_type": "markdown",
      "source": [
        "# Discount Calculator: Calculates the discounted price based on the total price and a discount rate."
      ],
      "metadata": {
        "id": "lXNAC5gnio1V"
      }
    },
    {
      "cell_type": "code",
      "source": [
        "total_price = float(input(\"Enter the total price: \"))\n",
        "discount = 0.1 if total_price > 100 else 0.05\n",
        "discounted_price = total_price - (discount * total_price)\n",
        "print(f\"The discounted price is: {discounted_price}\")"
      ],
      "metadata": {
        "id": "ajewTpIpiYcu"
      },
      "execution_count": null,
      "outputs": []
    },
    {
      "cell_type": "markdown",
      "source": [
        "# User Authentication: Checks if the entered username and password match a predefined set of credentials."
      ],
      "metadata": {
        "id": "ciBhsRN4i5JX"
      }
    },
    {
      "cell_type": "code",
      "source": [
        "username = input(\"Enter your username: \")\n",
        "password = input(\"Enter your password: \")\n",
        "if username == \"admin\" and password == \"secret\":\n",
        "    print(\"Login successful\")\n",
        "else:\n",
        "    print(\"Login failed\")\n"
      ],
      "metadata": {
        "id": "3R8hJBvai1w5"
      },
      "execution_count": null,
      "outputs": []
    },
    {
      "cell_type": "markdown",
      "source": [
        "# File Extension Checker: Extracts and prints the file extension from the given filename."
      ],
      "metadata": {
        "id": "bvWEfdxFi-l5"
      }
    },
    {
      "cell_type": "code",
      "source": [
        "filename = input(\"Enter a filename: \")\n",
        "if \".\" in filename:\n",
        "    file_extension = filename.split(\".\")[-1]\n",
        "    print(f\"The file extension is: {file_extension}\")\n",
        "else:\n",
        "    print(\"Invalid filename\")\n"
      ],
      "metadata": {
        "id": "mkh4slDKjBZ_"
      },
      "execution_count": null,
      "outputs": []
    },
    {
      "cell_type": "markdown",
      "source": [
        "# Quadratic Equation Solver: Solves a quadratic equation and prints its roots."
      ],
      "metadata": {
        "id": "akXTXu4ujPyp"
      }
    },
    {
      "cell_type": "code",
      "source": [
        "import math\n",
        "\n",
        "a, b, c = map(float, input(\"Enter coefficients (a, b, c) of the quadratic equation: \").split())\n",
        "discriminant = b**2 - 4*a*c\n",
        "\n",
        "if discriminant > 0:\n",
        "    root1 = (-b + math.sqrt(discriminant)) / (2*a)\n",
        "    root2 = (-b - math.sqrt(discriminant)) / (2*a)\n",
        "    print(f\"Two distinct real roots: {root1} and {root2}\")\n",
        "elif discriminant == 0:\n",
        "    root = -b / (2*a)\n",
        "    print(f\"One real root: {root}\")\n",
        "else:\n",
        "    print(\"No real roots\")\n"
      ],
      "metadata": {
        "id": "UzBcc7EwjLU9"
      },
      "execution_count": null,
      "outputs": []
    },
    {
      "cell_type": "markdown",
      "source": [
        "# Check for a Perfect Number:  Checks if a number is a perfect number."
      ],
      "metadata": {
        "id": "eP70h9Vujjoa"
      }
    },
    {
      "cell_type": "code",
      "source": [
        "num = int(input(\"Enter a number: \"))\n",
        "sum_of_divisors = sum(i for i in range(1, num) if num % i == 0)\n",
        "if sum_of_divisors == num:\n",
        "    print(\"Perfect Number\")\n",
        "else:\n",
        "    print(\"Not a Perfect Number\")"
      ],
      "metadata": {
        "id": "LOR3KC7jjSqj"
      },
      "execution_count": null,
      "outputs": []
    },
    {
      "cell_type": "markdown",
      "source": [
        "# Check for Anagram Strings:  Checks if two strings are anagrams."
      ],
      "metadata": {
        "id": "hkoEbvSujqS2"
      }
    },
    {
      "cell_type": "code",
      "source": [
        "str1, str2 = input(\"Enter two strings: \").split()\n",
        "if sorted(str1) == sorted(str2):\n",
        "    print(\"Anagram\")\n",
        "else:\n",
        "    print(\"Not an Anagram\")"
      ],
      "metadata": {
        "id": "71kGo2gBjoix"
      },
      "execution_count": null,
      "outputs": []
    },
    {
      "cell_type": "markdown",
      "source": [
        "# Check for a Valid Credit Card Number: Validates a credit card number based on length and digits."
      ],
      "metadata": {
        "id": "prmSCjIqj6pJ"
      }
    },
    {
      "cell_type": "code",
      "source": [
        "card_number = input(\"Enter a credit card number: \")\n",
        "if card_number.isdigit() and len(card_number) == 16:\n",
        "    print(\"Valid Credit Card Number\")\n",
        "else:\n",
        "    print(\"Invalid Credit Card Number\")"
      ],
      "metadata": {
        "id": "vTrvVE_AjuKh"
      },
      "execution_count": null,
      "outputs": []
    },
    {
      "cell_type": "markdown",
      "source": [
        "# Check for a Triangle Type: Determines the type of triangle based on side lengths."
      ],
      "metadata": {
        "id": "wnGNNMWAj-7m"
      }
    },
    {
      "cell_type": "code",
      "source": [
        "a, b, c = map(int, input(\"Enter three sides of a triangle: \").split())\n",
        "if a == b == c:\n",
        "    print(\"Equilateral Triangle\")\n",
        "elif a == b or b == c or a == c:\n",
        "    print(\"Isosceles Triangle\")\n",
        "else:\n",
        "    print(\"Scalene Triangle\")\n"
      ],
      "metadata": {
        "id": "9defQvOpkCoj"
      },
      "execution_count": null,
      "outputs": []
    },
    {
      "cell_type": "markdown",
      "source": [
        "# Check for a Pangram Sentence: Determines if a sentence is a pangram."
      ],
      "metadata": {
        "id": "ZeJQIyTPkFHQ"
      }
    },
    {
      "cell_type": "code",
      "source": [
        "sentence = input(\"Enter a sentence: \").lower()\n",
        "alphabet_set = set('abcdefghijklmnopqrstuvwxyz')\n",
        "if set(sentence) >= alphabet_set:\n",
        "    print(\"Pangram\")\n",
        "else:\n",
        "    print(\"Not a Pangram\")"
      ],
      "metadata": {
        "id": "1HpJgnq_kH9i"
      },
      "execution_count": null,
      "outputs": []
    },
    {
      "cell_type": "markdown",
      "source": [
        "# Check for a Quadrilateral Type: Identifies the type of quadrilateral based on angle measures."
      ],
      "metadata": {
        "id": "GiI8ZjMrkL_g"
      }
    },
    {
      "cell_type": "code",
      "source": [
        "angles = list(map(int, input(\"Enter four angles of a quadrilateral: \").split()))\n",
        "if sum(angles) == 360:\n",
        "    if all(angle > 0 for angle in angles):\n",
        "        if any(angle == 90 for angle in angles):\n",
        "            print(\"Rectangle or Square\")\n",
        "        else:\n",
        "            print(\"Quadrilateral\")\n",
        "    else:\n",
        "        print(\"Invalid Angles\")\n",
        "else:\n",
        "    print(\"Not a Quadrilateral\")\n"
      ],
      "metadata": {
        "id": "CYTxCXfikOak"
      },
      "execution_count": null,
      "outputs": []
    },
    {
      "cell_type": "markdown",
      "source": [
        "# Check for a Fibonacci Number: Checks if a number is a Fibonacci number."
      ],
      "metadata": {
        "id": "vJGVD8e8mPGa"
      }
    },
    {
      "cell_type": "code",
      "source": [
        "num = int(input(\"Enter a number: \"))\n",
        "a, b = 0, 1\n",
        "while b < num:\n",
        "    a, b = b, a + b\n",
        "if b == num:\n",
        "    print(\"Fibonacci Number\")\n",
        "else:\n",
        "    print(\"Not a Fibonacci Number\")\n"
      ],
      "metadata": {
        "id": "78Z9HX4dmRuL"
      },
      "execution_count": null,
      "outputs": []
    },
    {
      "cell_type": "markdown",
      "source": [
        "Check for a Valid IPv4 Address: Validates an IPv4 address."
      ],
      "metadata": {
        "id": "1vM4nho0mWqT"
      }
    },
    {
      "cell_type": "code",
      "source": [
        "ip_address = input(\"Enter an IPv4 address: \")\n",
        "octets = ip_address.split('.')\n",
        "if len(octets) == 4 and all(octet.isdigit() and 0 <= int(octet) <= 255 for octet in octets):\n",
        "    print(\"Valid IPv4 Address\")\n",
        "else:\n",
        "    print(\"Invalid IPv4 Address\")"
      ],
      "metadata": {
        "id": "69dDObYkmTSK"
      },
      "execution_count": null,
      "outputs": []
    },
    {
      "cell_type": "code",
      "source": [],
      "metadata": {
        "id": "PfG4HD15mj7T"
      },
      "execution_count": null,
      "outputs": []
    }
  ]
}